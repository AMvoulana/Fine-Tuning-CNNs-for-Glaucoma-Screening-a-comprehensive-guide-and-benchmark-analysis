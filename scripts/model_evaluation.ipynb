{
 "cells": [
  {
   "cell_type": "markdown",
   "metadata": {},
   "source": [
    "Ce script permet de faire une évaluation des modèles appris pour le dépistage du glaucome, selon plusieurs modalités. Premièrement, nous évaluons le modèle en end-to-end (dernière couche de prédiction), mais aussi en feature extraction en le combinant avec deux méthodes de classification : classification des features via un algo SVM et classfication des features via un algo de matching."
   ]
  },
  {
   "cell_type": "code",
   "execution_count": 1,
   "metadata": {},
   "outputs": [
    {
     "name": "stdout",
     "output_type": "stream",
     "text": [
      "\u001b[33mWARNING: The directory '/.cache/pip/http' or its parent directory is not owned by the current user and the cache has been disabled. Please check the permissions and owner of that directory. If executing pip with sudo, you may want sudo's -H flag.\u001b[0m\n",
      "\u001b[33mWARNING: The directory '/.cache/pip' or its parent directory is not owned by the current user and caching wheels has been disabled. check the permissions and owner of that directory. If executing pip with sudo, you may want sudo's -H flag.\u001b[0m\n",
      "Collecting keras\n",
      "\u001b[?25l  Downloading https://files.pythonhosted.org/packages/ad/fd/6bfe87920d7f4fd475acd28500a42482b6b84479832bdc0fe9e589a60ceb/Keras-2.3.1-py2.py3-none-any.whl (377kB)\n",
      "\u001b[K     |████████████████████████████████| 378kB 7.6MB/s eta 0:00:01\n",
      "\u001b[?25hCollecting scikit-learn\n",
      "\u001b[?25l  Downloading https://files.pythonhosted.org/packages/5e/d8/312e03adf4c78663e17d802fe2440072376fee46cada1404f1727ed77a32/scikit_learn-0.22.2.post1-cp36-cp36m-manylinux1_x86_64.whl (7.1MB)\n",
      "\u001b[K     |████████████████████████████████| 7.1MB 24.5MB/s eta 0:00:01\n",
      "\u001b[?25hCollecting pandas\n",
      "\u001b[?25l  Downloading https://files.pythonhosted.org/packages/08/ec/b5dd8cfb078380fb5ae9325771146bccd4e8cad2d3e4c72c7433010684eb/pandas-1.0.1-cp36-cp36m-manylinux1_x86_64.whl (10.1MB)\n",
      "\u001b[K     |████████████████████████████████| 10.1MB 28.5MB/s eta 0:00:01\n",
      "\u001b[?25hCollecting opencv-python\n",
      "\u001b[?25l  Downloading https://files.pythonhosted.org/packages/68/c5/09a1b82f940805c2cee30c3c42786651edcfd0710a0283eb09c6bc959340/opencv_python-4.2.0.32-cp36-cp36m-manylinux1_x86_64.whl (28.2MB)\n",
      "\u001b[K     |████████████████████████████████| 28.2MB 15.0MB/s eta 0:00:01\n",
      "\u001b[?25hCollecting pyyaml\n",
      "\u001b[?25l  Downloading https://files.pythonhosted.org/packages/3d/d9/ea9816aea31beeadccd03f1f8b625ecf8f645bd66744484d162d84803ce5/PyYAML-5.3.tar.gz (268kB)\n",
      "\u001b[K     |████████████████████████████████| 276kB 16.2MB/s eta 0:00:01\n",
      "\u001b[?25hRequirement already satisfied: numpy>=1.9.1 in /usr/local/lib/python3.6/dist-packages (from keras) (1.18.1)\n",
      "Requirement already satisfied: six>=1.9.0 in /usr/local/lib/python3.6/dist-packages (from keras) (1.13.0)\n",
      "Requirement already satisfied: keras-applications>=1.0.6 in /usr/local/lib/python3.6/dist-packages (from keras) (1.0.8)\n",
      "Requirement already satisfied: keras-preprocessing>=1.0.5 in /usr/local/lib/python3.6/dist-packages (from keras) (1.1.0)\n",
      "Requirement already satisfied: scipy>=0.14 in /usr/local/lib/python3.6/dist-packages (from keras) (1.4.1)\n",
      "Requirement already satisfied: h5py in /usr/local/lib/python3.6/dist-packages (from keras) (2.10.0)\n",
      "Collecting joblib>=0.11\n",
      "\u001b[?25l  Downloading https://files.pythonhosted.org/packages/28/5c/cf6a2b65a321c4a209efcdf64c2689efae2cb62661f8f6f4bb28547cf1bf/joblib-0.14.1-py2.py3-none-any.whl (294kB)\n",
      "\u001b[K     |████████████████████████████████| 296kB 18.4MB/s eta 0:00:01\n",
      "\u001b[?25hRequirement already satisfied: python-dateutil>=2.6.1 in /usr/local/lib/python3.6/dist-packages (from pandas) (2.8.1)\n",
      "Collecting pytz>=2017.2\n",
      "\u001b[?25l  Downloading https://files.pythonhosted.org/packages/e7/f9/f0b53f88060247251bf481fa6ea62cd0d25bf1b11a87888e53ce5b7c8ad2/pytz-2019.3-py2.py3-none-any.whl (509kB)\n",
      "\u001b[K     |████████████████████████████████| 512kB 24.0MB/s eta 0:00:01\n",
      "\u001b[?25hBuilding wheels for collected packages: pyyaml\n",
      "\u001b[33m  WARNING: Building wheel for pyyaml failed: [Errno 13] Permission denied: '/.cache'\u001b[0m\n",
      "Failed to build pyyaml\n",
      "Installing collected packages: pyyaml, keras, joblib, scikit-learn, pytz, pandas, opencv-python\n",
      "    Running setup.py install for pyyaml ... \u001b[?25ldone\n",
      "\u001b[?25hSuccessfully installed joblib-0.14.1 keras-2.3.1 opencv-python-4.2.0.32 pandas-1.0.1 pytz-2019.3 pyyaml-5.3 scikit-learn-0.22.2.post1\n",
      "\u001b[33mWARNING: You are using pip version 19.3.1; however, version 20.0.2 is available.\n",
      "You should consider upgrading via the 'pip install --upgrade pip' command.\u001b[0m\n"
     ]
    }
   ],
   "source": [
    "!pip3 install --user keras scikit-learn pandas opencv-python"
   ]
  },
  {
   "cell_type": "code",
   "execution_count": 1,
   "metadata": {},
   "outputs": [
    {
     "name": "stderr",
     "output_type": "stream",
     "text": [
      "Using TensorFlow backend.\n"
     ]
    }
   ],
   "source": [
    "# import the necessary packages\n",
    "\n",
    "from keras.preprocessing.image import ImageDataGenerator\n",
    "from keras.applications import ResNet50, ResNet50V2\n",
    "from keras.layers import Input, AveragePooling2D, GlobalAveragePooling2D, Dense, Flatten, Dropout\n",
    "from keras.models import Model, Sequential, load_model\n",
    "from keras.optimizers import Adam, SGD, RMSprop, Adagrad\n",
    "from keras import regularizers\n",
    "from keras.callbacks import EarlyStopping\n",
    "from sklearn.preprocessing import LabelBinarizer\n",
    "from sklearn.model_selection import train_test_split\n",
    "from sklearn.metrics import classification_report\n",
    "import matplotlib.pyplot as plt\n",
    "import numpy as np\n",
    "from keras.utils import np_utils"
   ]
  },
  {
   "cell_type": "code",
   "execution_count": 3,
   "metadata": {},
   "outputs": [],
   "source": [
    "from tensorflow.compat.v1 import ConfigProto\n",
    "from tensorflow.compat.v1 import InteractiveSession\n",
    "\n",
    "config = ConfigProto()\n",
    "config.gpu_options.per_process_gpu_memory_fraction = 0.1\n",
    "config.gpu_options.allow_growth = True\n",
    "session = InteractiveSession(config=config)"
   ]
  },
  {
   "cell_type": "code",
   "execution_count": 4,
   "metadata": {},
   "outputs": [],
   "source": [
    "# Load data: images and labels\n",
    "\n",
    "data = []\n",
    "labels = []\n",
    "\n",
    "data = np.array(np.load(\"../data/all_images_kimeye.npy\"))\n",
    "labels = np.array(np.load(\"../data/all_labels_kimeye.npy\"))\n",
    "labels = labels.astype(int)"
   ]
  },
  {
   "cell_type": "code",
   "execution_count": 5,
   "metadata": {},
   "outputs": [],
   "source": [
    "# shuffle the whole dataset\n",
    "\n",
    "shuffle = list(zip(data, labels))\n",
    "np.random.seed(42)\n",
    "np.random.shuffle(shuffle)\n",
    "data = np.array([shuffle[i][0] for i in range(len(shuffle))])\n",
    "labels = np.array([shuffle[i][1] for i in range(len(shuffle))])\n",
    "del shuffle"
   ]
  },
  {
   "cell_type": "code",
   "execution_count": 6,
   "metadata": {},
   "outputs": [],
   "source": [
    "lb = LabelBinarizer()\n",
    "#labels = lb.fit_transform(labels)\n",
    "one_hot_labels = np_utils.to_categorical(labels)"
   ]
  },
  {
   "cell_type": "code",
   "execution_count": 7,
   "metadata": {},
   "outputs": [],
   "source": [
    "# partition the data into training and testing splits using 75% of\n",
    "# the data for training and the remaining 25% for testing\n",
    "(trainX, testX, trainY, testY) = train_test_split(data, labels, \n",
    "\ttest_size=0.25, random_state=42)\n",
    "\n",
    "(trainX, testX, one_hot_trainY, one_hot_testY) = train_test_split(data, one_hot_labels, \n",
    "\ttest_size=0.25, random_state=42)"
   ]
  },
  {
   "cell_type": "code",
   "execution_count": 61,
   "metadata": {},
   "outputs": [],
   "source": [
    "#model = load_model(\"../models/VGG16/VGG16_fine_tuned_modelVGG16_fine_tuning__-7__SGD_0.0001_0.9_1e-06_16.h5\")\n",
    "#model = load_model(\"../models/VGG16/VGG16_fine_tuned_modelVGG16_fine_tuning__-7_256_0.0_SGD_0.0001_0.9_1e-06_16.h5\")\n",
    "\n",
    "model = load_model(\"../models/ResNet50V2/ResNet50V2_fine_tuned_modelResNet50V2__-1_SGD_0.0001_0.9_1e-06_8.h5\")\n",
    "#ResNet50V2_fine_tuned_modelResNet50V2__-1_SGD_0.0001_0.9_1e-06_8.h5"
   ]
  },
  {
   "cell_type": "code",
   "execution_count": 21,
   "metadata": {},
   "outputs": [
    {
     "name": "stdout",
     "output_type": "stream",
     "text": [
      "Model: \"model_1\"\n",
      "_________________________________________________________________\n",
      "Layer (type)                 Output Shape              Param #   \n",
      "=================================================================\n",
      "input_2 (InputLayer)         (None, 224, 224, 3)       0         \n",
      "_________________________________________________________________\n",
      "block1_conv1 (Conv2D)        (None, 224, 224, 64)      1792      \n",
      "_________________________________________________________________\n",
      "block1_conv2 (Conv2D)        (None, 224, 224, 64)      36928     \n",
      "_________________________________________________________________\n",
      "block1_pool (MaxPooling2D)   (None, 112, 112, 64)      0         \n",
      "_________________________________________________________________\n",
      "block2_conv1 (Conv2D)        (None, 112, 112, 128)     73856     \n",
      "_________________________________________________________________\n",
      "block2_conv2 (Conv2D)        (None, 112, 112, 128)     147584    \n",
      "_________________________________________________________________\n",
      "block2_pool (MaxPooling2D)   (None, 56, 56, 128)       0         \n",
      "_________________________________________________________________\n",
      "block3_conv1 (Conv2D)        (None, 56, 56, 256)       295168    \n",
      "_________________________________________________________________\n",
      "block3_conv2 (Conv2D)        (None, 56, 56, 256)       590080    \n",
      "_________________________________________________________________\n",
      "block3_conv3 (Conv2D)        (None, 56, 56, 256)       590080    \n",
      "_________________________________________________________________\n",
      "block3_pool (MaxPooling2D)   (None, 28, 28, 256)       0         \n",
      "_________________________________________________________________\n",
      "block4_conv1 (Conv2D)        (None, 28, 28, 512)       1180160   \n",
      "_________________________________________________________________\n",
      "block4_conv2 (Conv2D)        (None, 28, 28, 512)       2359808   \n",
      "_________________________________________________________________\n",
      "block4_conv3 (Conv2D)        (None, 28, 28, 512)       2359808   \n",
      "_________________________________________________________________\n",
      "block4_pool (MaxPooling2D)   (None, 14, 14, 512)       0         \n",
      "_________________________________________________________________\n",
      "block5_conv1 (Conv2D)        (None, 14, 14, 512)       2359808   \n",
      "_________________________________________________________________\n",
      "block5_conv2 (Conv2D)        (None, 14, 14, 512)       2359808   \n",
      "_________________________________________________________________\n",
      "block5_conv3 (Conv2D)        (None, 14, 14, 512)       2359808   \n",
      "_________________________________________________________________\n",
      "block5_pool (MaxPooling2D)   (None, 7, 7, 512)         0         \n",
      "_________________________________________________________________\n",
      "global_average_pooling2d_1 ( (None, 512)               0         \n",
      "_________________________________________________________________\n",
      "dense_1 (Dense)              (None, 256)               131328    \n",
      "_________________________________________________________________\n",
      "dense_2 (Dense)              (None, 2)                 514       \n",
      "=================================================================\n",
      "Total params: 14,846,530\n",
      "Trainable params: 7,211,266\n",
      "Non-trainable params: 7,635,264\n",
      "_________________________________________________________________\n"
     ]
    }
   ],
   "source": [
    "model.summary()"
   ]
  },
  {
   "cell_type": "code",
   "execution_count": 19,
   "metadata": {},
   "outputs": [
    {
     "name": "stdout",
     "output_type": "stream",
     "text": [
      "              precision    recall  f1-score   support\n",
      "\n",
      "           0     0.9187    0.9187    0.9187       209\n",
      "           1     0.9040    0.9040    0.9040       177\n",
      "\n",
      "    accuracy                         0.9119       386\n",
      "   macro avg     0.9113    0.9113    0.9113       386\n",
      "weighted avg     0.9119    0.9119    0.9119       386\n",
      "\n"
     ]
    }
   ],
   "source": [
    "predictions = model.predict(testX, batch_size=1)\n",
    "report = classification_report(one_hot_testY.argmax(axis=1),\n",
    "\tpredictions.argmax(axis=1), digits=4)\n",
    "print(report)"
   ]
  },
  {
   "cell_type": "code",
   "execution_count": 20,
   "metadata": {},
   "outputs": [
    {
     "data": {
      "text/plain": [
       "0.9113075446706134"
      ]
     },
     "execution_count": 20,
     "metadata": {},
     "output_type": "execute_result"
    }
   ],
   "source": [
    "from sklearn.metrics import roc_auc_score\n",
    "\n",
    "roc_auc_score(one_hot_testY.argmax(axis=1),\n",
    "\tpredictions.argmax(axis=1))"
   ]
  },
  {
   "cell_type": "code",
   "execution_count": 22,
   "metadata": {},
   "outputs": [],
   "source": [
    "# Création du modèle pour l'extraction des vecteurs d'attributs de chaque image (256 pour VGG16)\n",
    "features_model = Model(inputs=model.input, outputs=model.get_layer('dense_1').output)"
   ]
  },
  {
   "cell_type": "code",
   "execution_count": 23,
   "metadata": {},
   "outputs": [],
   "source": [
    "def process_image(image):\n",
    "    \n",
    "    expand_image = np.expand_dims(image, axis=0)\n",
    "    processed_image = np.array(expand_image)\n",
    "    \n",
    "    return processed_image\n",
    "    "
   ]
  },
  {
   "cell_type": "code",
   "execution_count": 24,
   "metadata": {},
   "outputs": [],
   "source": [
    "# Extraction des attributs et des labels des images de train\n",
    "\n",
    "features_matrix = []\n",
    "features_label = []\n",
    "\n",
    "for i in range(0, len(trainX)):\n",
    "    image = trainX[i]\n",
    "    processed_image = process_image(image)\n",
    "    features = features_model.predict(processed_image).flatten()\n",
    "    features_matrix.append(features)\n",
    "    features_label.append(trainY[i])\n",
    "\n",
    "features_matrix = np.array(features_matrix)\n",
    "features_label = np.array(features_label)"
   ]
  },
  {
   "cell_type": "code",
   "execution_count": 235,
   "metadata": {},
   "outputs": [],
   "source": [
    "\"\"\"\n",
    "def extract_features(samples, sample_count):\n",
    "        \n",
    "    features = np.zeros(shape=(sample_count, 512))\n",
    "    for i, image in enumerate(samples):\n",
    "        \n",
    "        # Invoke the convolutional base\n",
    "        features_batch = features_model.predict(image)\n",
    "        \n",
    "        # Store the transformed features and the labels\n",
    "        features[i * batch_size : (i + 1) * batch_size] = features_batch\n",
    "        \n",
    "        if (i+1) * batch_size >= sample_count:\n",
    "            # Note that since generators yield data indefinitely in a loop,\n",
    "            # we must `break` after every image has been seen once.\n",
    "            break\n",
    "            \n",
    "    return features\n",
    "\n",
    "features_matrix = extract_features(trainX, len(trainX))\n",
    "print(features.shape)\n",
    "\"\"\""
   ]
  },
  {
   "cell_type": "code",
   "execution_count": 14,
   "metadata": {},
   "outputs": [
    {
     "name": "stdout",
     "output_type": "stream",
     "text": [
      "(1158, 512)\n",
      "[1 0 1 ... 1 0 1]\n"
     ]
    }
   ],
   "source": [
    "print(features_matrix.shape)\n",
    "print(features_label)"
   ]
  },
  {
   "cell_type": "code",
   "execution_count": 25,
   "metadata": {},
   "outputs": [],
   "source": [
    "from sklearn.model_selection import train_test_split, cross_val_score, ShuffleSplit, cross_validate, cross_val_predict\n",
    "# Package permettant de lancer un classifieur SVM\n",
    "from sklearn.svm import SVC\n",
    "from sklearn.metrics import classification_report, confusion_matrix"
   ]
  },
  {
   "cell_type": "code",
   "execution_count": 34,
   "metadata": {},
   "outputs": [
    {
     "data": {
      "text/plain": [
       "SVC(C=1, break_ties=False, cache_size=200, class_weight=None, coef0=0.0,\n",
       "    decision_function_shape='ovr', degree=3, gamma=0.002048, kernel='rbf',\n",
       "    max_iter=-1, probability=False, random_state=0, shrinking=True, tol=0.001,\n",
       "    verbose=False)"
      ]
     },
     "execution_count": 34,
     "metadata": {},
     "output_type": "execute_result"
    }
   ],
   "source": [
    "clf = SVC(kernel='rbf', random_state=0, gamma=0.002048, C=1) # création du noyau SVM\n",
    "#clf = SVC(kernel='linear', C=1)\n",
    "clf.fit(features_matrix, features_label) # apprentissage"
   ]
  },
  {
   "cell_type": "code",
   "execution_count": 19,
   "metadata": {},
   "outputs": [],
   "source": [
    "test_image = process_image(testX[208])\n",
    "test_feature = features_model.predict(test_image)\n",
    "label = clf.predict(test_feature)"
   ]
  },
  {
   "cell_type": "code",
   "execution_count": 222,
   "metadata": {},
   "outputs": [
    {
     "name": "stdout",
     "output_type": "stream",
     "text": [
      "[0]\n"
     ]
    }
   ],
   "source": [
    "print(label)"
   ]
  },
  {
   "cell_type": "code",
   "execution_count": 27,
   "metadata": {},
   "outputs": [],
   "source": [
    "# Extraction des attributs des images de test\n",
    "test_features_matrix = []\n",
    "\n",
    "for i in range(0, len(testX)):\n",
    "    image = testX[i]\n",
    "    processed_image = process_image(image)\n",
    "    test_features = features_model.predict(processed_image).flatten()\n",
    "    test_features_matrix.append(test_features)\n",
    "\n",
    "test_features_matrix = np.array(test_features_matrix)"
   ]
  },
  {
   "cell_type": "code",
   "execution_count": 28,
   "metadata": {},
   "outputs": [
    {
     "name": "stdout",
     "output_type": "stream",
     "text": [
      "(386, 256)\n"
     ]
    }
   ],
   "source": [
    "print(test_features_matrix.shape)"
   ]
  },
  {
   "cell_type": "code",
   "execution_count": 35,
   "metadata": {},
   "outputs": [],
   "source": [
    "# Classification des images de test\n",
    "predicted_labels = clf.predict(test_features_matrix)"
   ]
  },
  {
   "cell_type": "code",
   "execution_count": 36,
   "metadata": {},
   "outputs": [
    {
     "name": "stdout",
     "output_type": "stream",
     "text": [
      "[0 0 1 0 0 1 0 1 0 1 0 1 1 0 1 0 1 1 0 1 0 1 0 1 0 0 1 1 0 1 0 1 1 0 1 1 1\n",
      " 0 1 1 1 1 1 0 1 1 0 0 0 0 0 1 0 1 0 1 0 1 0 1 1 1 0 0 1 0 1 1 0 1 0 0 1 1\n",
      " 0 0 0 0 1 1 1 0 0 1 0 1 0 0 0 0 0 1 1 1 1 1 0 1 1 0 1 1 0 1 0 1 0 1 0 0 0\n",
      " 1 0 1 1 1 0 0 0 0 0 1 1 0 1 0 0 1 0 1 1 0 0 1 0 1 0 0 0 1 0 1 0 0 0 1 1 1\n",
      " 0 0 0 0 1 0 0 1 1 0 0 1 0 0 0 1 1 1 1 0 0 1 0 1 0 0 1 0 1 1 1 0 0 0 1 1 0\n",
      " 1 0 0 0 0 1 0 1 1 0 0 0 1 0 1 0 0 1 1 1 0 1 1 0 1 0 1 0 1 1 0 0 0 1 1 0 0\n",
      " 0 0 0 1 1 0 1 1 1 1 0 0 0 0 0 0 0 0 0 0 0 1 0 1 0 1 0 0 1 0 1 0 1 0 1 1 1\n",
      " 1 0 1 1 0 1 0 1 0 1 0 1 1 1 1 0 0 1 1 1 1 1 0 1 0 1 1 0 1 1 1 1 1 0 1 1 1\n",
      " 1 1 0 1 1 0 1 0 1 0 0 0 0 0 1 0 0 1 1 1 0 0 1 0 0 0 0 0 0 0 0 1 0 0 1 0 1\n",
      " 0 1 0 1 1 1 0 1 0 1 0 0 0 1 1 1 1 1 1 1 1 1 0 1 1 0 0 0 1 0 0 1 1 0 0 0 1\n",
      " 1 1 0 0 0 1 1 0 0 1 0 0 0 1 0 1]\n"
     ]
    }
   ],
   "source": [
    "# Prédiction SVM\n",
    "print(predicted_labels)"
   ]
  },
  {
   "cell_type": "code",
   "execution_count": 37,
   "metadata": {},
   "outputs": [
    {
     "name": "stdout",
     "output_type": "stream",
     "text": [
      "[0 0 1 1 0 1 0 1 0 1 0 1 1 0 1 0 1 0 0 1 0 1 0 1 0 0 0 1 0 1 0 0 1 0 1 1 1\n",
      " 0 1 1 0 1 1 0 1 0 0 0 0 0 0 1 0 1 0 1 0 1 0 1 1 1 0 0 1 0 1 0 0 1 0 0 1 1\n",
      " 0 0 0 0 1 0 1 0 0 1 0 1 0 0 0 0 0 1 1 1 1 0 0 1 1 1 1 0 0 1 1 1 0 1 0 0 0\n",
      " 1 0 1 1 1 0 0 0 0 0 1 1 1 1 0 0 1 0 1 0 0 0 1 0 1 0 0 0 1 0 1 0 0 0 1 1 1\n",
      " 1 0 0 0 0 0 0 1 1 0 0 1 0 0 0 1 1 0 1 0 0 1 0 1 1 0 1 0 0 1 1 0 0 0 1 1 0\n",
      " 1 0 0 0 0 1 0 1 1 0 0 0 1 0 1 0 0 1 1 1 0 1 0 0 1 0 1 0 1 1 0 0 0 1 1 1 0\n",
      " 0 0 0 1 1 0 1 1 1 1 0 0 0 0 0 0 0 1 0 0 0 1 0 0 0 0 0 0 1 0 1 0 1 0 0 1 1\n",
      " 0 0 0 1 1 1 0 0 0 1 0 1 1 1 1 0 0 1 1 1 1 1 0 1 0 1 0 0 1 1 1 1 1 0 1 1 1\n",
      " 1 1 0 1 1 0 1 0 1 0 0 0 0 0 1 0 0 0 1 0 0 0 1 0 0 0 0 0 0 1 0 1 0 0 1 0 1\n",
      " 0 1 0 1 1 1 0 1 0 1 0 0 0 0 1 1 0 1 1 1 1 1 0 1 1 0 0 0 1 0 0 1 1 0 0 0 1\n",
      " 1 1 0 0 1 1 1 0 1 1 0 0 0 1 0 1]\n"
     ]
    }
   ],
   "source": [
    "# Vérité-terrain\n",
    "print(testY)"
   ]
  },
  {
   "cell_type": "code",
   "execution_count": 38,
   "metadata": {},
   "outputs": [
    {
     "name": "stdout",
     "output_type": "stream",
     "text": [
      "Obtained confusion matrix on test data: \n",
      "[[184  25]\n",
      " [ 12 165]]\n",
      "              precision    recall  f1-score   support\n",
      "\n",
      "           0     0.9388    0.8804    0.9086       209\n",
      "           1     0.8684    0.9322    0.8992       177\n",
      "\n",
      "    accuracy                         0.9041       386\n",
      "   macro avg     0.9036    0.9063    0.9039       386\n",
      "weighted avg     0.9065    0.9041    0.9043       386\n",
      "\n"
     ]
    }
   ],
   "source": [
    "conf_mat = confusion_matrix(testY, predicted_labels) # matrice de confusion\n",
    "print(\"Obtained confusion matrix on test data: \")\n",
    "print(conf_mat)\n",
    "print(classification_report(testY, predicted_labels, digits=4)) # Résultats de métriques\n"
   ]
  },
  {
   "cell_type": "code",
   "execution_count": 39,
   "metadata": {},
   "outputs": [
    {
     "data": {
      "text/plain": [
       "0.9062930824750629"
      ]
     },
     "execution_count": 39,
     "metadata": {},
     "output_type": "execute_result"
    }
   ],
   "source": [
    "from sklearn.metrics import roc_auc_score\n",
    "\n",
    "roc_auc_score(testY, predicted_labels)"
   ]
  },
  {
   "cell_type": "code",
   "execution_count": 1,
   "metadata": {},
   "outputs": [],
   "source": [
    "# A partir de la matrice d'attributs correspondant à la base de training, on construit deux vecteurs moyennes associés\n",
    "# à chaque classe : glaucome et sain\n",
    "\n",
    "def extract_feature_vector(feature_matrix, labels, label):\n",
    "\n",
    "    matrix = np.array(features_matrix[labels==label])\n",
    "    print(matrix.shape)\n",
    "    feature_vector = np.mean(matrix, axis=0)\n",
    "    return feature_vector\n"
   ]
  },
  {
   "cell_type": "code",
   "execution_count": 41,
   "metadata": {},
   "outputs": [
    {
     "name": "stdout",
     "output_type": "stream",
     "text": [
      "(579, 256)\n",
      "(579, 256)\n",
      "(256,)\n"
     ]
    }
   ],
   "source": [
    "# Pour chaque matrice de features associée à chaque classe, on calcule un vecteur d'attributs moyen\n",
    "\n",
    "healthy_vector = extract_feature_vector(features_matrix, trainY, 0)\n",
    "glaucomatous_vector = extract_feature_vector(features_matrix, trainY, 1)\n",
    "\n",
    "print(healthy_vector.shape)"
   ]
  },
  {
   "cell_type": "code",
   "execution_count": 42,
   "metadata": {},
   "outputs": [],
   "source": [
    "import scipy"
   ]
  },
  {
   "cell_type": "code",
   "execution_count": 43,
   "metadata": {},
   "outputs": [],
   "source": [
    "# Fonction de calcul de la distance entre deu vecteurs x et y: on peut spécifier en paramètre\n",
    "\n",
    "from scipy.spatial.distance import cosine, jaccard, minkowski, mahalanobis\n",
    "from math import*\n",
    "\n",
    "def compute_distance(x, y, dist_type):\n",
    "    if dist_type == 'eucl':\n",
    "        return sqrt(sum(pow(a-b,2) for a, b in zip(x, y)))\n",
    "    if dist_type == 'manh':\n",
    "        return sum(abs(a-b) for a, b in zip(x, y))\n",
    "    if dist_type == 'cos':\n",
    "        return cosine(x,y)\n",
    "    if dist_type == 'mink':\n",
    "        return minkowski(x,y, 3)\n",
    "    if dist_type == 'maha':\n",
    "        return mahalanobis(x,y)"
   ]
  },
  {
   "cell_type": "code",
   "execution_count": null,
   "metadata": {},
   "outputs": [],
   "source": [
    "# vérifier et tester les calculs de distance"
   ]
  },
  {
   "cell_type": "code",
   "execution_count": 44,
   "metadata": {},
   "outputs": [],
   "source": [
    "# A partir de la matrice d'attributs de la base de test, on compare chaque vecteur d'attributs aux vecteurs \"modèles\" issus de\n",
    "# chaque classe grâce à la fonction de calcul de distance\n",
    "\n",
    "def predict_label(feature_vector, healthy_vector, glaucomatous_vector, dist_type):\n",
    "        \n",
    "        dist_healthy = compute_distance(feature_vector, healthy_vector, dist_type)\n",
    "        dist_glaucomatous = compute_distance(feature_vector, glaucomatous_vector, dist_type)\n",
    "        \n",
    "        if dist_healthy < dist_glaucomatous:\n",
    "            return 0\n",
    "        else:\n",
    "            return 1"
   ]
  },
  {
   "cell_type": "code",
   "execution_count": 58,
   "metadata": {},
   "outputs": [
    {
     "name": "stdout",
     "output_type": "stream",
     "text": [
      "[0 0 1 0 0 1 0 1 0 1 0 1 1 0 1 0 1 1 0 1 0 1 0 1 0 0 1 1 1 1 0 1 1 0 1 1 1\n",
      " 1 1 1 1 1 1 0 1 1 0 0 0 0 0 1 0 1 0 1 0 1 0 1 1 1 0 0 1 0 1 1 0 1 0 0 1 1\n",
      " 0 0 1 0 1 1 1 0 1 1 0 1 0 0 0 0 0 1 1 1 1 1 0 1 1 1 1 1 0 1 0 1 0 1 0 0 0\n",
      " 1 0 1 1 1 0 0 0 0 0 1 1 1 1 0 0 1 0 1 1 0 0 1 0 1 0 0 0 1 0 1 0 0 0 1 1 1\n",
      " 1 0 0 0 1 0 0 1 1 0 0 1 0 0 0 1 1 1 1 0 0 1 1 1 1 0 1 0 1 1 1 0 0 0 1 1 0\n",
      " 1 0 0 0 1 1 0 1 1 0 0 0 1 1 1 0 0 1 1 1 0 1 1 0 1 0 1 0 1 1 0 0 0 1 1 0 0\n",
      " 0 0 0 1 1 1 1 1 1 1 0 1 0 0 0 0 0 0 0 0 0 1 1 1 0 1 0 0 1 0 1 0 1 0 1 1 1\n",
      " 1 0 1 1 0 1 0 1 0 1 0 1 1 1 1 0 0 1 1 1 1 1 0 1 1 1 1 0 1 1 1 1 1 0 1 1 1\n",
      " 1 1 0 1 1 0 1 0 1 0 0 0 0 0 1 0 0 1 1 1 0 1 1 0 0 0 0 0 0 0 0 1 0 0 1 0 1\n",
      " 0 1 0 1 1 1 0 1 1 1 0 0 0 1 1 1 1 1 1 1 1 1 0 1 1 0 0 0 1 1 0 1 1 0 0 0 1\n",
      " 1 1 0 0 0 1 1 0 0 1 0 0 0 1 0 1]\n",
      "[0 0 1 1 0 1 0 1 0 1 0 1 1 0 1 0 1 0 0 1 0 1 0 1 0 0 0 1 0 1 0 0 1 0 1 1 1\n",
      " 0 1 1 0 1 1 0 1 0 0 0 0 0 0 1 0 1 0 1 0 1 0 1 1 1 0 0 1 0 1 0 0 1 0 0 1 1\n",
      " 0 0 0 0 1 0 1 0 0 1 0 1 0 0 0 0 0 1 1 1 1 0 0 1 1 1 1 0 0 1 1 1 0 1 0 0 0\n",
      " 1 0 1 1 1 0 0 0 0 0 1 1 1 1 0 0 1 0 1 0 0 0 1 0 1 0 0 0 1 0 1 0 0 0 1 1 1\n",
      " 1 0 0 0 0 0 0 1 1 0 0 1 0 0 0 1 1 0 1 0 0 1 0 1 1 0 1 0 0 1 1 0 0 0 1 1 0\n",
      " 1 0 0 0 0 1 0 1 1 0 0 0 1 0 1 0 0 1 1 1 0 1 0 0 1 0 1 0 1 1 0 0 0 1 1 1 0\n",
      " 0 0 0 1 1 0 1 1 1 1 0 0 0 0 0 0 0 1 0 0 0 1 0 0 0 0 0 0 1 0 1 0 1 0 0 1 1\n",
      " 0 0 0 1 1 1 0 0 0 1 0 1 1 1 1 0 0 1 1 1 1 1 0 1 0 1 0 0 1 1 1 1 1 0 1 1 1\n",
      " 1 1 0 1 1 0 1 0 1 0 0 0 0 0 1 0 0 0 1 0 0 0 1 0 0 0 0 0 0 1 0 1 0 0 1 0 1\n",
      " 0 1 0 1 1 1 0 1 0 1 0 0 0 0 1 1 0 1 1 1 1 1 0 1 1 0 0 0 1 0 0 1 1 0 0 0 1\n",
      " 1 1 0 0 1 1 1 0 1 1 0 0 0 1 0 1]\n"
     ]
    }
   ],
   "source": [
    "predicted_labels = []\n",
    "\n",
    "for i, feature_vector in enumerate(test_features_matrix):\n",
    "    predicted_label = predict_label(feature_vector, healthy_vector, glaucomatous_vector, 'manh')\n",
    "    predicted_labels.append(predicted_label)\n",
    "\n",
    "predicted_labels = np.array(predicted_labels)\n",
    "    \n",
    "print(predicted_labels)\n",
    "print(testY)"
   ]
  },
  {
   "cell_type": "code",
   "execution_count": 59,
   "metadata": {},
   "outputs": [
    {
     "name": "stdout",
     "output_type": "stream",
     "text": [
      "Obtained confusion matrix on test data: \n",
      "[[170  39]\n",
      " [  8 169]]\n",
      "              precision    recall  f1-score   support\n",
      "\n",
      "           0     0.9551    0.8134    0.8786       209\n",
      "           1     0.8125    0.9548    0.8779       177\n",
      "\n",
      "    accuracy                         0.8782       386\n",
      "   macro avg     0.8838    0.8841    0.8782       386\n",
      "weighted avg     0.8897    0.8782    0.8783       386\n",
      "\n"
     ]
    }
   ],
   "source": [
    "conf_mat = confusion_matrix(testY, predicted_labels)\n",
    "print(\"Obtained confusion matrix on test data: \")\n",
    "print(conf_mat)\n",
    "print(classification_report(testY, predicted_labels, digits=4))"
   ]
  },
  {
   "cell_type": "code",
   "execution_count": 60,
   "metadata": {},
   "outputs": [
    {
     "data": {
      "text/plain": [
       "0.8840996945368043"
      ]
     },
     "execution_count": 60,
     "metadata": {},
     "output_type": "execute_result"
    }
   ],
   "source": [
    "from sklearn.metrics import roc_auc_score\n",
    "\n",
    "roc_auc_score(testY, predicted_labels)"
   ]
  },
  {
   "cell_type": "code",
   "execution_count": 263,
   "metadata": {},
   "outputs": [
    {
     "name": "stderr",
     "output_type": "stream",
     "text": [
      "Clipping input data to the valid range for imshow with RGB data ([0..1] for floats or [0..255] for integers).\n"
     ]
    },
    {
     "data": {
      "image/png": "[encoded data removed]",
      "text/plain": [
       "<Figure size 432x288 with 1 Axes>"
      ]
     },
     "metadata": {
      "needs_background": "light"
     },
     "output_type": "display_data"
    }
   ],
   "source": [
    "image = testX[3]\n",
    "plt.imshow(image)\n",
    "plt.show()\n"
   ]
  },
  {
   "cell_type": "code",
   "execution_count": null,
   "metadata": {},
   "outputs": [],
   "source": []
  }
 ],
 "metadata": {
  "kernelspec": {
   "display_name": "Python 3",
   "language": "python",
   "name": "python3"
  },
  "language_info": {
   "codemirror_mode": {
    "name": "ipython",
    "version": 3
   },
   "file_extension": ".py",
   "mimetype": "text/x-python",
   "name": "python",
   "nbconvert_exporter": "python",
   "pygments_lexer": "ipython3",
   "version": "3.6.9"
  }
 },
 "nbformat": 4,
 "nbformat_minor": 4
}
